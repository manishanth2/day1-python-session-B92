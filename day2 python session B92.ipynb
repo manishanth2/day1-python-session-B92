{
 "cells": [
  {
   "cell_type": "code",
   "execution_count": 5,
   "id": "1dad1a27-e661-4872-be96-f16705104332",
   "metadata": {},
   "outputs": [
    {
     "name": "stdout",
     "output_type": "stream",
     "text": [
      "5\n"
     ]
    }
   ],
   "source": [
    "x=2 # adding to varibles\n",
    "y=3\n",
    "z=x+y\n",
    "print(z)"
   ]
  },
  {
   "cell_type": "code",
   "execution_count": 15,
   "id": "3301975f-83ed-46cd-84c9-fab2d185f4fc",
   "metadata": {},
   "outputs": [
    {
     "ename": "SyntaxError",
     "evalue": "invalid syntax (3246068207.py, line 1)",
     "output_type": "error",
     "traceback": [
      "\u001b[1;36m  Cell \u001b[1;32mIn[15], line 1\u001b[1;36m\u001b[0m\n\u001b[1;33m    first name='anything' # role no1: No name namespace while declaring the variable\u001b[0m\n\u001b[1;37m          ^\u001b[0m\n\u001b[1;31mSyntaxError\u001b[0m\u001b[1;31m:\u001b[0m invalid syntax\n"
     ]
    }
   ],
   "source": [
    "first name='anything' # role no1: No name namespace while declaring the variable\n",
    "print(first name)"
   ]
  },
  {
   "cell_type": "code",
   "execution_count": 31,
   "id": "9f6bb523-c97f-45c8-9e3d-a15665d20277",
   "metadata": {},
   "outputs": [
    {
     "name": "stdout",
     "output_type": "stream",
     "text": [
      "anything\n"
     ]
    }
   ],
   "source": [
    "first_name='anything'\n",
    "print(first_name)"
   ]
  },
  {
   "cell_type": "code",
   "execution_count": 17,
   "id": "1634cd69-b5a5-435d-bf56-f91bc0a2166f",
   "metadata": {},
   "outputs": [
    {
     "ename": "SyntaxError",
     "evalue": "invalid decimal literal (2122139776.py, line 1)",
     "output_type": "error",
     "traceback": [
      "\u001b[1;36m  Cell \u001b[1;32mIn[17], line 1\u001b[1;36m\u001b[0m\n\u001b[1;33m    1name='something' # role no2: A variabe name should not start with a number\u001b[0m\n\u001b[1;37m    ^\u001b[0m\n\u001b[1;31mSyntaxError\u001b[0m\u001b[1;31m:\u001b[0m invalid decimal literal\n"
     ]
    }
   ],
   "source": [
    "1name='something' # role no2: A variabe name should not start with a number\n",
    "print(1name)"
   ]
  },
  {
   "cell_type": "code",
   "execution_count": 35,
   "id": "b479120c-a9c9-4c04-a1fc-243e5c3539dc",
   "metadata": {},
   "outputs": [
    {
     "name": "stdout",
     "output_type": "stream",
     "text": [
      "something\n"
     ]
    }
   ],
   "source": [
    "name1='something'\n",
    "print(name1)"
   ]
  },
  {
   "cell_type": "code",
   "execution_count": 19,
   "id": "b3a599ea-7947-4bc8-9f3d-3d1f3d75ce80",
   "metadata": {},
   "outputs": [
    {
     "ename": "SyntaxError",
     "evalue": "invalid syntax (3300033303.py, line 1)",
     "output_type": "error",
     "traceback": [
      "\u001b[1;36m  Cell \u001b[1;32mIn[19], line 1\u001b[1;36m\u001b[0m\n\u001b[1;33m    name$='naha' # role no3: A varible name should not contain any special characters @ # $ % ^ &\u001b[0m\n\u001b[1;37m        ^\u001b[0m\n\u001b[1;31mSyntaxError\u001b[0m\u001b[1;31m:\u001b[0m invalid syntax\n"
     ]
    }
   ],
   "source": [
    "name$='naha' # role no3: A varible name should not contain any special characters @ # $ % ^ &\n",
    "print(name$)"
   ]
  },
  {
   "cell_type": "code",
   "execution_count": 37,
   "id": "201505dd-527d-4336-a1c8-0dc290693ea4",
   "metadata": {},
   "outputs": [
    {
     "name": "stdout",
     "output_type": "stream",
     "text": [
      "naha\n"
     ]
    }
   ],
   "source": [
    "name='naha'\n",
    "print(name)"
   ]
  },
  {
   "cell_type": "code",
   "execution_count": 29,
   "id": "d833ca0a-cee6-4a48-b7c6-2f6508c4c943",
   "metadata": {},
   "outputs": [
    {
     "name": "stdout",
     "output_type": "stream",
     "text": [
      "pawan sai\n",
      "Pawan Sai\n",
      "PAWAN SAI\n",
      "pawan sai\n"
     ]
    }
   ],
   "source": [
    "full_name= 'pawan sai'\n",
    "print(full_name)\n",
    "print(full_name.title())\n",
    "print(full_name.upper())\n",
    "print(full_name.lower())"
   ]
  }
 ],
 "metadata": {
  "kernelspec": {
   "display_name": "Python [conda env:base] *",
   "language": "python",
   "name": "conda-base-py"
  },
  "language_info": {
   "codemirror_mode": {
    "name": "ipython",
    "version": 3
   },
   "file_extension": ".py",
   "mimetype": "text/x-python",
   "name": "python",
   "nbconvert_exporter": "python",
   "pygments_lexer": "ipython3",
   "version": "3.12.7"
  }
 },
 "nbformat": 4,
 "nbformat_minor": 5
}
