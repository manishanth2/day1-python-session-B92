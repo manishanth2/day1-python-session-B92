{
 "cells": [
  {
   "cell_type": "code",
   "execution_count": 1,
   "id": "1bf28d6e-8d75-4988-82e6-fc729a778854",
   "metadata": {},
   "outputs": [
    {
     "name": "stdout",
     "output_type": "stream",
     "text": [
      "my first program in python session\n"
     ]
    }
   ],
   "source": [
    "print(\"my first program in python session\")"
   ]
  },
  {
   "cell_type": "code",
   "execution_count": null,
   "id": "3193ee93-9d94-4cff-9d84-d68453dcba54",
   "metadata": {},
   "outputs": [],
   "source": []
  }
 ],
 "metadata": {
  "kernelspec": {
   "display_name": "Python [conda env:base] *",
   "language": "python",
   "name": "conda-base-py"
  },
  "language_info": {
   "codemirror_mode": {
    "name": "ipython",
    "version": 3
   },
   "file_extension": ".py",
   "mimetype": "text/x-python",
   "name": "python",
   "nbconvert_exporter": "python",
   "pygments_lexer": "ipython3",
   "version": "3.12.7"
  }
 },
 "nbformat": 4,
 "nbformat_minor": 5
}
